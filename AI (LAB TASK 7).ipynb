{
 "cells": [
  {
   "cell_type": "code",
   "execution_count": 2,
   "id": "73391f30-67a7-4225-890a-81839e33d765",
   "metadata": {},
   "outputs": [
    {
     "name": "stdout",
     "output_type": "stream",
     "text": [
      "Path found: [(0, 0), (0, 1), (1, 1), (2, 1)]\n"
     ]
    }
   ],
   "source": [
    "# Task 7\n",
    "def a_star_no_heuristic(grapg, start, goal):\n",
    "    open_list = [start]\n",
    "    closed_list = []\n",
    "    g_cost = {start: 0}\n",
    "    came_from = {start: None}\n",
    "    while open_list:\n",
    "        current = get_lowest_cost_node(open_list, g_cost)\n",
    "        if current == goal:\n",
    "            path = []\n",
    "            while current:\n",
    "                path.append(current)\n",
    "                current = came_from[current]\n",
    "            return path[::-1]\n",
    "        open_list.remove(current)\n",
    "        closed_list.append(current)\n",
    "        for neighbour, move_cost in graph.get(current, []):\n",
    "            if neighbour in closed_list:\n",
    "                continue\n",
    "            tentative_g_cost = g_cost[current] + move_cost\n",
    "            if neighbour not in open_list:\n",
    "                open_list.append(neighbour)\n",
    "            elif tentative_g_cost >= g_cost.get(neighbour, float('inf')):\n",
    "                continue\n",
    "            came_from[neighbour] = current\n",
    "            g_cost[neighbour] = tentative_g_cost\n",
    "    return None\n",
    "\n",
    "def get_lowest_cost_node(open_list, g_cost):\n",
    "    lowest_node = None\n",
    "    lowest_cost = float('inf')\n",
    "    for node in open_list:\n",
    "        if g_cost[node] < lowest_cost:\n",
    "            lowest_cost = g_cost[node]\n",
    "            lowest_node = node\n",
    "    return lowest_node\n",
    "\n",
    "graph = {\n",
    "    (0 ,0): [((0, 1), 1), ((1, 0), 1 )],\n",
    "    (0 ,1): [((1, 1), 1), ((0, 0), 1)],\n",
    "    (1, 0): [((1, 1), 1), ((0, 0), 1)],\n",
    "    (1, 1): [((2, 1), 1), ((1, 0), 1), ((0, 1), 1)],\n",
    "    (2, 1): []\n",
    "}\n",
    "\n",
    "start = (0, 0)\n",
    "goal = (2, 1)\n",
    "path = a_star_no_heuristic(graph, start, goal)\n",
    "\n",
    "if path:\n",
    "    print(\"Path found:\", path)\n",
    "else:\n",
    "    print(\"Path not found\")\n",
    "\n",
    "            \n",
    "            \n",
    "            "
   ]
  },
  {
   "cell_type": "code",
   "execution_count": null,
   "id": "c3769e77-840b-4293-a17d-885c454e10e9",
   "metadata": {},
   "outputs": [],
   "source": []
  }
 ],
 "metadata": {
  "kernelspec": {
   "display_name": "Python 3 (ipykernel)",
   "language": "python",
   "name": "python3"
  },
  "language_info": {
   "codemirror_mode": {
    "name": "ipython",
    "version": 3
   },
   "file_extension": ".py",
   "mimetype": "text/x-python",
   "name": "python",
   "nbconvert_exporter": "python",
   "pygments_lexer": "ipython3",
   "version": "3.11.7"
  }
 },
 "nbformat": 4,
 "nbformat_minor": 5
}
