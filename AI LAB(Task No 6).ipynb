{
 "cells": [
  {
   "cell_type": "code",
   "execution_count": 3,
   "id": "b4e998f7-5528-421f-b066-ac147abe058a",
   "metadata": {},
   "outputs": [
    {
     "name": "stdout",
     "output_type": "stream",
     "text": [
      "['A', 'B', 'C', 'D', 'E', 'F', 'G']\n"
     ]
    }
   ],
   "source": [
    "# Task 6 part 1\n",
    "tree = {\n",
    "    'A': ['B','C'],\n",
    "    'B': ['D','E'],\n",
    "    'C': ['F','G'],\n",
    "    'D': [],\n",
    "    'E': [],\n",
    "    'F': [],\n",
    "    'G': []\n",
    "} \n",
    "\n",
    "visited = []\n",
    "\n",
    "def bfs(start):\n",
    "    visited.clear()\n",
    "    def bfs_recursive(current_level):\n",
    "        if not current_level:\n",
    "            return\n",
    "            \n",
    "        next_level = []\n",
    "        for node in current_level:\n",
    "            if node not in visited:\n",
    "                visited.append(node)\n",
    "                next_level.extend(tree[node])\n",
    "        bfs_recursive(next_level)\n",
    "    bfs_recursive([start])\n",
    "\n",
    "bfs('A')\n",
    "print(visited)"
   ]
  },
  {
   "cell_type": "code",
   "execution_count": 4,
   "id": "b3ad06df-4dc9-4ec0-8411-77469cf47e7c",
   "metadata": {},
   "outputs": [
    {
     "name": "stdout",
     "output_type": "stream",
     "text": [
      "['A', 'B', 'C', 'D', 'E', 'F', 'G']\n"
     ]
    }
   ],
   "source": [
    "# Task 6 part 2\n",
    "tree = {\n",
    "    'A': ['B','C'],\n",
    "    'B': ['D','E'],\n",
    "    'C': ['F','G'],\n",
    "    'D': [],\n",
    "    'E': [],\n",
    "    'F': [],\n",
    "    'G': []\n",
    "} \n",
    "\n",
    "visited = []\n",
    "\n",
    "def bfs(start):\n",
    "    visited.clear()\n",
    "    queue = [start]\n",
    "    while queue:\n",
    "        node = queue.pop(0)\n",
    "        if node not in visited:\n",
    "            visited.append(node)\n",
    "            queue.extend(tree[node])\n",
    "\n",
    "bfs('A')\n",
    "print(visited)"
   ]
  },
  {
   "cell_type": "code",
   "execution_count": null,
   "id": "ebafa557-0ab4-4d89-ab33-dcf94f0e2ad1",
   "metadata": {},
   "outputs": [],
   "source": []
  }
 ],
 "metadata": {
  "kernelspec": {
   "display_name": "Python 3 (ipykernel)",
   "language": "python",
   "name": "python3"
  },
  "language_info": {
   "codemirror_mode": {
    "name": "ipython",
    "version": 3
   },
   "file_extension": ".py",
   "mimetype": "text/x-python",
   "name": "python",
   "nbconvert_exporter": "python",
   "pygments_lexer": "ipython3",
   "version": "3.11.7"
  }
 },
 "nbformat": 4,
 "nbformat_minor": 5
}
