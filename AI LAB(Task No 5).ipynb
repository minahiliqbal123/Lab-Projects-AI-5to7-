{
 "cells": [
  {
   "cell_type": "code",
   "execution_count": 2,
   "id": "f3505222-af76-4518-93fe-f32931d0ec4c",
   "metadata": {},
   "outputs": [
    {
     "name": "stdout",
     "output_type": "stream",
     "text": [
      "visited ['A', 'B', 'D', 'E', 'C', 'F']\n",
      "updated tree {'A': ['B', 'C'], 'B': ['D', 'E'], 'C': ['F', 'G', 'H'], 'D': [], 'E': [], 'F': [], 'G': [], 'H': []}\n"
     ]
    }
   ],
   "source": [
    "# task 5 \n",
    "tree = {\n",
    "    'A': ['B','C'],\n",
    "    'B': ['D','E'],\n",
    "    'C': ['F','G'],\n",
    "    'D': [],\n",
    "    'E': [],\n",
    "    'F': [],\n",
    "    'G': []\n",
    "} \n",
    "\n",
    "def node(parent,child):\n",
    "    if parent in tree:\n",
    "        tree[parent].append(child)\n",
    "    else:\n",
    "        tree[parent] = [child]\n",
    "    tree[child] = []\n",
    "\n",
    "visited = list()\n",
    "\n",
    "def dfs(start, goal):\n",
    "    stack = [start]\n",
    "    while stack:\n",
    "        node = stack.pop()\n",
    "        if node not in visited:\n",
    "            visited.append(node)\n",
    "        if node == goal:\n",
    "            return\n",
    "        for neighbour in reversed(tree[node]):\n",
    "            if neighbour not in visited:\n",
    "                stack.append(neighbour)\n",
    "            \n",
    "node('C','H')            \n",
    "dfs('A' , 'F')\n",
    "print(\"visited\",visited)\n",
    "print(\"updated tree\",tree)"
   ]
  },
  {
   "cell_type": "code",
   "execution_count": 4,
   "id": "8e83c52b-6e34-4655-9fe5-644a08de4a2d",
   "metadata": {},
   "outputs": [
    {
     "name": "stdout",
     "output_type": "stream",
     "text": [
      "Inorder Traversal:\n",
      "D B E A F C G \n",
      "\n",
      "Preorder Traversal:\n",
      "A B D E C F G \n",
      "\n",
      "Postorder Traversal:\n",
      "D E B F G C A \n",
      "\n"
     ]
    }
   ],
   "source": [
    "# task 5 \n",
    "class Node:\n",
    "    def __init__(self, value):\n",
    "        self.value = value\n",
    "        self.left = None\n",
    "        self.right = None\n",
    "\n",
    "def inorder(node):\n",
    "    if node:\n",
    "        inorder(node.left)\n",
    "        print(node.value, end=\" \")\n",
    "        inorder(node.right)\n",
    "\n",
    "def preorder(node):\n",
    "    if node:\n",
    "        print(node.value, end=\" \")\n",
    "        preorder(node.left)\n",
    "        preorder(node.right)\n",
    "\n",
    "def postorder(node):\n",
    "    if node:\n",
    "        postorder(node.left)\n",
    "        postorder(node.right)\n",
    "        print(node.value, end=\" \")\n",
    "\n",
    "if __name__ == \"__main__\":\n",
    "    root = Node('A')\n",
    "    root.left = Node('B')\n",
    "    root.right = Node('C')\n",
    "    root.left.left = Node('D')\n",
    "    root.left.right = Node('E')\n",
    "    root.right.left = Node('F')\n",
    "    root.right.right = Node('G')\n",
    "    \n",
    "    print(\"Inorder Traversal:\")\n",
    "    inorder(root)\n",
    "    print(\"\\n\")\n",
    "    \n",
    "    print(\"Preorder Traversal:\")\n",
    "    preorder(root)\n",
    "    print(\"\\n\")\n",
    "    \n",
    "    print(\"Postorder Traversal:\")\n",
    "    postorder(root)\n",
    "    print(\"\\n\")"
   ]
  },
  {
   "cell_type": "code",
   "execution_count": null,
   "id": "6067e09f-5dee-4677-a000-07dcfd0929f1",
   "metadata": {},
   "outputs": [],
   "source": []
  }
 ],
 "metadata": {
  "kernelspec": {
   "display_name": "Python 3 (ipykernel)",
   "language": "python",
   "name": "python3"
  },
  "language_info": {
   "codemirror_mode": {
    "name": "ipython",
    "version": 3
   },
   "file_extension": ".py",
   "mimetype": "text/x-python",
   "name": "python",
   "nbconvert_exporter": "python",
   "pygments_lexer": "ipython3",
   "version": "3.11.7"
  }
 },
 "nbformat": 4,
 "nbformat_minor": 5
}
